{
 "cells": [
  {
   "cell_type": "markdown",
   "metadata": {},
   "source": [
    "# PANDAS PROJECT:SHARK_ATTACKS\n"
   ]
  },
  {
   "cell_type": "code",
   "execution_count": 2,
   "metadata": {},
   "outputs": [],
   "source": [
    "#Importar los modulos necesarios para trabajar\n",
    "\n",
    "import numpy as np\n",
    "import pandas as pd\n",
    "import re"
   ]
  },
  {
   "cell_type": "code",
   "execution_count": 5,
   "metadata": {},
   "outputs": [],
   "source": [
    "#Importar el archivo sobre el que se va a trabajar.\n",
    "df = pd.read_csv('../input/attacks.csv', encoding='1252')\n"
   ]
  },
  {
   "cell_type": "code",
   "execution_count": null,
   "metadata": {},
   "outputs": [],
   "source": [
    "#Visualización de las primeras filas del dataset para tener una visión global.\n",
    "df.head()"
   ]
  },
  {
   "cell_type": "code",
   "execution_count": null,
   "metadata": {},
   "outputs": [],
   "source": [
    "#Se utiliza la función 'shape' para conocer la dimensión del dataframe.\n",
    "df.shape"
   ]
  },
  {
   "cell_type": "code",
   "execution_count": null,
   "metadata": {},
   "outputs": [],
   "source": [
    "#Estimación de los valores NaN en cada columna,de esta forma se conoce que valores están vacíos.\n",
    "df.isnull().sum()"
   ]
  },
  {
   "cell_type": "code",
   "execution_count": null,
   "metadata": {},
   "outputs": [],
   "source": [
    "#Utilización de la función 'dtypes' paar saber que tipo de dato tiene cada columna y luego poder trabajr sobre ellos.\n",
    "df.dtypes"
   ]
  },
  {
   "cell_type": "code",
   "execution_count": null,
   "metadata": {},
   "outputs": [],
   "source": [
    "#Se buscan los nombres de todas las columnas para ver en qué formato están escritas.\n",
    "df.columns"
   ]
  },
  {
   "cell_type": "code",
   "execution_count": null,
   "metadata": {},
   "outputs": [],
   "source": [
    "#Selección de las columnas con las que se va a trabajar.\n",
    "df[['Country', 'Type','Sex ']]"
   ]
  },
  {
   "cell_type": "code",
   "execution_count": 4,
   "metadata": {},
   "outputs": [
    {
     "ename": "NameError",
     "evalue": "name 'df' is not defined",
     "output_type": "error",
     "traceback": [
      "\u001b[0;31m---------------------------------------------------------------------------\u001b[0m",
      "\u001b[0;31mNameError\u001b[0m                                 Traceback (most recent call last)",
      "\u001b[0;32m<ipython-input-4-29411e81fcba>\u001b[0m in \u001b[0;36m<module>\u001b[0;34m\u001b[0m\n\u001b[1;32m      1\u001b[0m \u001b[0;31m#Se eliminan los valores 'NaN' de estas columnas ya que son irrelevantes,en caso de ser tipo 'int'es más aconsejable usar fillna.Se muestran los primero valores.\u001b[0m\u001b[0;34m\u001b[0m\u001b[0;34m\u001b[0m\u001b[0;34m\u001b[0m\u001b[0m\n\u001b[0;32m----> 2\u001b[0;31m \u001b[0mdf\u001b[0m\u001b[0;34m.\u001b[0m\u001b[0mdropna\u001b[0m\u001b[0;34m(\u001b[0m\u001b[0msubset\u001b[0m\u001b[0;34m=\u001b[0m\u001b[0;34m[\u001b[0m\u001b[0;34m'Type'\u001b[0m\u001b[0;34m,\u001b[0m\u001b[0;34m'Sex '\u001b[0m\u001b[0;34m,\u001b[0m\u001b[0;34m'Country'\u001b[0m\u001b[0;34m]\u001b[0m\u001b[0;34m)\u001b[0m\u001b[0;34m.\u001b[0m\u001b[0mhead\u001b[0m\u001b[0;34m(\u001b[0m\u001b[0;34m)\u001b[0m\u001b[0;34m\u001b[0m\u001b[0;34m\u001b[0m\u001b[0m\n\u001b[0m",
      "\u001b[0;31mNameError\u001b[0m: name 'df' is not defined"
     ]
    }
   ],
   "source": [
    "#Se eliminan los valores 'NaN' de estas columnas ya que son irrelevantes,en caso de ser tipo 'int'es más aconsejable usar fillna.Se muestran los primero valores.\n",
    "df.dropna(subset=['Type','Sex ','Country']).head()"
   ]
  },
  {
   "cell_type": "code",
   "execution_count": null,
   "metadata": {},
   "outputs": [],
   "source": [
    "#Se eliminan los valores duplicados en la columna y se muestran los primeros valores.\n",
    "df.drop_duplicates(subset=['Type','Country','Sex ']).head()"
   ]
  },
  {
   "cell_type": "code",
   "execution_count": null,
   "metadata": {},
   "outputs": [],
   "source": [
    "#Limpieza con sustitución de valor usando 'replace'.\n",
    "df['Type'] = df['Type'].str.replace(r'Boat.+','Boat')\n",
    "#Agrupación de los elementos en la columna en toda su longitud.\n",
    "types = [t for t in df.groupby('Type').groups.keys()]\n",
    "typescount = [len(df.groupby(['Type']).groups[t]) for t in types]\n",
    "#Se muestra la relación del número de tipos de casos producidos y el porcentaje de casos más repetido.\n",
    "display(pd.DataFrame({'Type':types, 'Count':typescount}))\n",
    "percentage = typescount[-1]/sum(typescount)*100\n",
    "print('Most shark attacks(',round(percentage),'%) are unprovoked')\n"
   ]
  },
  {
   "cell_type": "code",
   "execution_count": null,
   "metadata": {},
   "outputs": [],
   "source": [
    "#Agrupación de los datos según el género de la víctima.\n",
    "gender = [g for g in df.groupby('Sex ').groups.keys()]\n",
    "ttlcount = [len(df.groupby(['Sex ']).groups[g]) for g in gender]\n",
    "#Muestra de la relación entre el número de ataques de tiburón y el género de la víctima.\n",
    "display(pd.DataFrame({'Sex ':gender, 'N_shark_attacks':ttlcount}))\n",
    "\n",
    "print('There are more attacks to men')\n"
   ]
  },
  {
   "cell_type": "code",
   "execution_count": null,
   "metadata": {},
   "outputs": [],
   "source": [
    "#Conjunto de datos según los países donde se dan los ataques y el número de ataques.\n",
    "country = [a for a in df.groupby('Country').groups.keys()]\n",
    "ttlcount = [len(df.groupby(['Country']).groups[a]) for a in country]\n",
    "#Visualización de la relación entre el número de ataques y los países donde se dan más casos.\n",
    "display(pd.DataFrame({'Country':country, 'N_shark_attacks':ttlcount}))\n"
   ]
  },
  {
   "cell_type": "code",
   "execution_count": null,
   "metadata": {},
   "outputs": [],
   "source": [
    "df1=df.groupby(\"Country\",).agg({\"Type\":\"count\"})\n",
    "df1=max(df['Country'])"
   ]
  },
  {
   "cell_type": "code",
   "execution_count": null,
   "metadata": {},
   "outputs": [],
   "source": [
    "df1.to_csv('/Output/country_agressivness.csv')"
   ]
  },
  {
   "cell_type": "code",
   "execution_count": null,
   "metadata": {},
   "outputs": [],
   "source": [
    "\n",
    "''''''df1 = df[(df['Year'] > 1990) & (df['Year'] < 2018)]\n",
    "print ('----- data frame filtrado rangos de años-----')\n",
    "print (df1)''''''"
   ]
  },
  {
   "cell_type": "code",
   "execution_count": null,
   "metadata": {},
   "outputs": [],
   "source": []
  },
  {
   "cell_type": "code",
   "execution_count": null,
   "metadata": {},
   "outputs": [],
   "source": []
  }
 ],
 "metadata": {
  "kernelspec": {
   "display_name": "Python 3",
   "language": "python",
   "name": "python3"
  },
  "language_info": {
   "codemirror_mode": {
    "name": "ipython",
    "version": 3
   },
   "file_extension": ".py",
   "mimetype": "text/x-python",
   "name": "python",
   "nbconvert_exporter": "python",
   "pygments_lexer": "ipython3",
   "version": "3.8.2"
  }
 },
 "nbformat": 4,
 "nbformat_minor": 4
}
